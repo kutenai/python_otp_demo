{
 "metadata": {
  "name": "",
  "signature": "sha256:51f92ddad18d6afa5d0ecd2b868ed97703d5d7640885ce9e600ba6f4c07e256d"
 },
 "nbformat": 3,
 "nbformat_minor": 0,
 "worksheets": [
  {
   "cells": [
    {
     "cell_type": "code",
     "collapsed": false,
     "input": [
      "import pyotp\n",
      "import hashlib\n",
      "import time"
     ],
     "language": "python",
     "metadata": {},
     "outputs": [],
     "prompt_number": 20
    },
    {
     "cell_type": "markdown",
     "metadata": {},
     "source": [
      "I imported the pyotp module, and hashlib."
     ]
    },
    {
     "cell_type": "code",
     "collapsed": false,
     "input": [
      "key = pyotp.random_base32()"
     ],
     "language": "python",
     "metadata": {},
     "outputs": [],
     "prompt_number": 16
    },
    {
     "cell_type": "code",
     "collapsed": false,
     "input": [
      "t = pyotp.TOTP(key,digest=hashlib.sha256)"
     ],
     "language": "python",
     "metadata": {},
     "outputs": [],
     "prompt_number": 17
    },
    {
     "cell_type": "markdown",
     "metadata": {},
     "source": [
      "Call TOTP with a keyword argument of digest, and specify the hashlib.sha256 algorithm, rather than the default sha1.\n",
      "\n",
      "Once we have the TOTP object, we can call now to get a code, or t.verify(code) to verify one."
     ]
    },
    {
     "cell_type": "code",
     "collapsed": false,
     "input": [
      "code = t.now()\n",
      "t.verify(code)"
     ],
     "language": "python",
     "metadata": {},
     "outputs": [
      {
       "metadata": {},
       "output_type": "pyout",
       "prompt_number": 19,
       "text": [
        "True"
       ]
      }
     ],
     "prompt_number": 19
    },
    {
     "cell_type": "markdown",
     "metadata": {},
     "source": [
      "The above code will (almost) always pass... but, if we sleep a bit, it will fail sometimes.."
     ]
    },
    {
     "cell_type": "code",
     "collapsed": false,
     "input": [
      "code = t.now()\n",
      "print(\"Code is %d\" % code)\n",
      "time.sleep(10)\n",
      "if t.verify(code):\n",
      "    print(\"All good\")\n",
      "else:\n",
      "    print(\"Ah.. we failed.. about a 1/3 chance we fail.\")\n",
      "        \n"
     ],
     "language": "python",
     "metadata": {},
     "outputs": [
      {
       "output_type": "stream",
       "stream": "stdout",
       "text": [
        "Code is 493024\n",
        "All good"
       ]
      },
      {
       "output_type": "stream",
       "stream": "stdout",
       "text": [
        "\n"
       ]
      }
     ],
     "prompt_number": 25
    },
    {
     "cell_type": "code",
     "collapsed": false,
     "input": [],
     "language": "python",
     "metadata": {},
     "outputs": [],
     "prompt_number": 25
    },
    {
     "cell_type": "code",
     "collapsed": false,
     "input": [],
     "language": "python",
     "metadata": {},
     "outputs": []
    }
   ],
   "metadata": {}
  }
 ]
}